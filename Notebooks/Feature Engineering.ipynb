{
 "cells": [
  {
   "cell_type": "code",
   "execution_count": 17,
   "id": "f069fb17-958c-4165-ae79-5039ee8bf0d6",
   "metadata": {},
   "outputs": [],
   "source": [
    "import pandas as pd"
   ]
  },
  {
   "cell_type": "code",
   "execution_count": 18,
   "id": "b3763854-b529-4bd9-b221-26b6806683e7",
   "metadata": {},
   "outputs": [],
   "source": [
    "df=pd.read_csv(\"telco python.csv\")"
   ]
  },
  {
   "cell_type": "code",
   "execution_count": 19,
   "id": "1edb8cb9-5a47-4324-b605-eccbca2ce7e1",
   "metadata": {},
   "outputs": [],
   "source": [
    "df = pd.get_dummies(df, columns=['Contract', 'InternetService', 'PaymentMethod'], drop_first=True)\n",
    "\n",
    "for col in df.select_dtypes(include='bool').columns:\n",
    "    df[col] = df[col].astype(int)"
   ]
  },
  {
   "cell_type": "code",
   "execution_count": 20,
   "id": "e3f1fb69-0a73-42d5-a562-440e4ce58df3",
   "metadata": {},
   "outputs": [],
   "source": [
    "service_cols_numeric = ['PhoneServiceFlag'] \n",
    "service_cols_object = [ 'MultipleLines','OnlineSecurity','OnlineBackup',\n",
    "                       'DeviceProtection','TechSupport','StreamingTV','StreamingMovies']\n"
   ]
  },
  {
   "cell_type": "code",
   "execution_count": 21,
   "id": "411db804-a8f2-46e9-bc49-77517b1b7639",
   "metadata": {},
   "outputs": [],
   "source": [
    "for col in service_cols_object:\n",
    "    df[col+'_Flag'] = df[col].map({'Yes':1, 'No':0, 'No internet service':0})"
   ]
  },
  {
   "cell_type": "code",
   "execution_count": 22,
   "id": "19dcc9de-fa97-41af-ba01-728fe4723d54",
   "metadata": {},
   "outputs": [],
   "source": [
    "all_service_flags = service_cols_numeric + [col+'_Flag' for col in service_cols_object]\n",
    "\n",
    "df['TotalServices'] = df[all_service_flags].sum(axis=1)"
   ]
  },
  {
   "cell_type": "code",
   "execution_count": 23,
   "id": "760c2e14-ed9c-4501-a475-105ec033cfc0",
   "metadata": {},
   "outputs": [],
   "source": [
    "df['HighMonthlyChargesFlag'] = (df['MonthlyCharges'] > 80).astype(int)\n",
    "df['LongTenureFlag'] = (df['tenure'] > 24).astype(int)"
   ]
  },
  {
   "cell_type": "code",
   "execution_count": 24,
   "id": "8b0fc63a-76f0-49d4-8c6a-ac21409988de",
   "metadata": {},
   "outputs": [
    {
     "name": "stdout",
     "output_type": "stream",
     "text": [
      "customerID                                object\n",
      "gender                                    object\n",
      "SeniorCitizen                              int64\n",
      "Partner                                   object\n",
      "PartnerFlag                                int64\n",
      "Dependents                                object\n",
      "DependentsFlag                             int64\n",
      "tenure                                     int64\n",
      "PhoneService                              object\n",
      "PhoneServiceFlag                           int64\n",
      "MultipleLines                             object\n",
      "OnlineSecurity                            object\n",
      "OnlineBackup                              object\n",
      "DeviceProtection                          object\n",
      "TechSupport                               object\n",
      "StreamingTV                               object\n",
      "StreamingMovies                           object\n",
      "PaperlessBilling                          object\n",
      "PaperLessBillingFlag                       int64\n",
      "MonthlyCharges                           float64\n",
      "TotalCharges                             float64\n",
      "Churn                                     object\n",
      "ChurnFlag                                  int64\n",
      "Contract_One year                          int64\n",
      "Contract_Two year                          int64\n",
      "InternetService_Fiber optic                int64\n",
      "InternetService_No                         int64\n",
      "PaymentMethod_Credit card (automatic)      int64\n",
      "PaymentMethod_Electronic check             int64\n",
      "PaymentMethod_Mailed check                 int64\n",
      "MultipleLines_Flag                       float64\n",
      "OnlineSecurity_Flag                        int64\n",
      "OnlineBackup_Flag                          int64\n",
      "DeviceProtection_Flag                      int64\n",
      "TechSupport_Flag                           int64\n",
      "StreamingTV_Flag                           int64\n",
      "StreamingMovies_Flag                       int64\n",
      "TotalServices                            float64\n",
      "HighMonthlyChargesFlag                     int64\n",
      "LongTenureFlag                             int64\n",
      "dtype: object\n",
      "Index(['customerID', 'gender', 'Partner', 'Dependents', 'PhoneService',\n",
      "       'MultipleLines', 'OnlineSecurity', 'OnlineBackup', 'DeviceProtection',\n",
      "       'TechSupport', 'StreamingTV', 'StreamingMovies', 'PaperlessBilling',\n",
      "       'Churn'],\n",
      "      dtype='object')\n"
     ]
    }
   ],
   "source": [
    "# Check dtypes\n",
    "print(df.dtypes)\n",
    "\n",
    "# Ensure only numeric columns\n",
    "print(df.select_dtypes(include=['object']).columns)  # should return empty\n"
   ]
  },
  {
   "cell_type": "code",
   "execution_count": 25,
   "id": "4354505e-1981-4a60-b15c-a7fc9afe6961",
   "metadata": {},
   "outputs": [],
   "source": [
    "obj_cols= ['customerID', 'gender', 'Partner', 'Dependents', 'PhoneService',\n",
    "       'MultipleLines', 'OnlineSecurity', 'OnlineBackup', 'DeviceProtection',\n",
    "       'TechSupport', 'StreamingTV', 'StreamingMovies', 'PaperlessBilling',\n",
    "       'Churn']\n",
    "df= df.drop(columns=obj_cols)"
   ]
  },
  {
   "cell_type": "code",
   "execution_count": 26,
   "id": "dfd5da2f-5fee-4ff9-891b-8e7869e4fc62",
   "metadata": {},
   "outputs": [
    {
     "name": "stdout",
     "output_type": "stream",
     "text": [
      "<class 'pandas.core.frame.DataFrame'>\n",
      "RangeIndex: 7043 entries, 0 to 7042\n",
      "Data columns (total 26 columns):\n",
      " #   Column                                 Non-Null Count  Dtype  \n",
      "---  ------                                 --------------  -----  \n",
      " 0   SeniorCitizen                          7043 non-null   int64  \n",
      " 1   PartnerFlag                            7043 non-null   int64  \n",
      " 2   DependentsFlag                         7043 non-null   int64  \n",
      " 3   tenure                                 7043 non-null   int64  \n",
      " 4   PhoneServiceFlag                       7043 non-null   int64  \n",
      " 5   PaperLessBillingFlag                   7043 non-null   int64  \n",
      " 6   MonthlyCharges                         7043 non-null   float64\n",
      " 7   TotalCharges                           7043 non-null   float64\n",
      " 8   ChurnFlag                              7043 non-null   int64  \n",
      " 9   Contract_One year                      7043 non-null   int64  \n",
      " 10  Contract_Two year                      7043 non-null   int64  \n",
      " 11  InternetService_Fiber optic            7043 non-null   int64  \n",
      " 12  InternetService_No                     7043 non-null   int64  \n",
      " 13  PaymentMethod_Credit card (automatic)  7043 non-null   int64  \n",
      " 14  PaymentMethod_Electronic check         7043 non-null   int64  \n",
      " 15  PaymentMethod_Mailed check             7043 non-null   int64  \n",
      " 16  MultipleLines_Flag                     6361 non-null   float64\n",
      " 17  OnlineSecurity_Flag                    7043 non-null   int64  \n",
      " 18  OnlineBackup_Flag                      7043 non-null   int64  \n",
      " 19  DeviceProtection_Flag                  7043 non-null   int64  \n",
      " 20  TechSupport_Flag                       7043 non-null   int64  \n",
      " 21  StreamingTV_Flag                       7043 non-null   int64  \n",
      " 22  StreamingMovies_Flag                   7043 non-null   int64  \n",
      " 23  TotalServices                          7043 non-null   float64\n",
      " 24  HighMonthlyChargesFlag                 7043 non-null   int64  \n",
      " 25  LongTenureFlag                         7043 non-null   int64  \n",
      "dtypes: float64(4), int64(22)\n",
      "memory usage: 1.4 MB\n"
     ]
    }
   ],
   "source": [
    "df.info()"
   ]
  },
  {
   "cell_type": "code",
   "execution_count": 27,
   "id": "1acbc289-4e32-4309-a297-06b6bc6a509b",
   "metadata": {},
   "outputs": [],
   "source": [
    "df['MultipleLines_Flag'] = df['MultipleLines_Flag'].fillna(0)"
   ]
  },
  {
   "cell_type": "code",
   "execution_count": 28,
   "id": "c07be907-3ed9-49b0-9b40-37dae303cd22",
   "metadata": {},
   "outputs": [],
   "source": [
    "df[\"AvgChargesPerMonth\"] = df[\"TotalCharges\"] / (df[\"tenure\"].replace(0, 1))"
   ]
  },
  {
   "cell_type": "code",
   "execution_count": 29,
   "id": "333ef726-67de-4873-a6d0-183430d13673",
   "metadata": {},
   "outputs": [],
   "source": [
    "df[\"tenure group\"] = pd.cut(\n",
    "    df[\"tenure\"],\n",
    "    bins=[0, 12, 24, 48, 60, 72],  \n",
    "    labels=[\"0–12\", \"13–24\", \"25–48\", \"49–60\", \"61–72\"]\n",
    ")"
   ]
  },
  {
   "cell_type": "code",
   "execution_count": 30,
   "id": "5789a856-40ea-4697-8d24-25a0c52c1e59",
   "metadata": {},
   "outputs": [],
   "source": [
    "df = pd.get_dummies(df, columns=[\"tenure group\"], drop_first=True)"
   ]
  },
  {
   "cell_type": "code",
   "execution_count": 31,
   "id": "1828317d-5f5c-4ef0-8384-dca8ebd0d002",
   "metadata": {},
   "outputs": [
    {
     "name": "stdout",
     "output_type": "stream",
     "text": [
      "<class 'pandas.core.frame.DataFrame'>\n",
      "RangeIndex: 7043 entries, 0 to 7042\n",
      "Data columns (total 31 columns):\n",
      " #   Column                                 Non-Null Count  Dtype  \n",
      "---  ------                                 --------------  -----  \n",
      " 0   SeniorCitizen                          7043 non-null   int64  \n",
      " 1   PartnerFlag                            7043 non-null   int64  \n",
      " 2   DependentsFlag                         7043 non-null   int64  \n",
      " 3   tenure                                 7043 non-null   int64  \n",
      " 4   PhoneServiceFlag                       7043 non-null   int64  \n",
      " 5   PaperLessBillingFlag                   7043 non-null   int64  \n",
      " 6   MonthlyCharges                         7043 non-null   float64\n",
      " 7   TotalCharges                           7043 non-null   float64\n",
      " 8   ChurnFlag                              7043 non-null   int64  \n",
      " 9   Contract_One year                      7043 non-null   int64  \n",
      " 10  Contract_Two year                      7043 non-null   int64  \n",
      " 11  InternetService_Fiber optic            7043 non-null   int64  \n",
      " 12  InternetService_No                     7043 non-null   int64  \n",
      " 13  PaymentMethod_Credit card (automatic)  7043 non-null   int64  \n",
      " 14  PaymentMethod_Electronic check         7043 non-null   int64  \n",
      " 15  PaymentMethod_Mailed check             7043 non-null   int64  \n",
      " 16  MultipleLines_Flag                     7043 non-null   float64\n",
      " 17  OnlineSecurity_Flag                    7043 non-null   int64  \n",
      " 18  OnlineBackup_Flag                      7043 non-null   int64  \n",
      " 19  DeviceProtection_Flag                  7043 non-null   int64  \n",
      " 20  TechSupport_Flag                       7043 non-null   int64  \n",
      " 21  StreamingTV_Flag                       7043 non-null   int64  \n",
      " 22  StreamingMovies_Flag                   7043 non-null   int64  \n",
      " 23  TotalServices                          7043 non-null   float64\n",
      " 24  HighMonthlyChargesFlag                 7043 non-null   int64  \n",
      " 25  LongTenureFlag                         7043 non-null   int64  \n",
      " 26  AvgChargesPerMonth                     7043 non-null   float64\n",
      " 27  tenure group_13–24                     7043 non-null   bool   \n",
      " 28  tenure group_25–48                     7043 non-null   bool   \n",
      " 29  tenure group_49–60                     7043 non-null   bool   \n",
      " 30  tenure group_61–72                     7043 non-null   bool   \n",
      "dtypes: bool(4), float64(5), int64(22)\n",
      "memory usage: 1.5 MB\n"
     ]
    }
   ],
   "source": [
    "df.info()"
   ]
  },
  {
   "cell_type": "code",
   "execution_count": 32,
   "id": "51321262-bcd5-4309-9518-025becd2fa35",
   "metadata": {},
   "outputs": [],
   "source": [
    "df.to_csv(\"telco python.csv\", index=False)"
   ]
  }
 ],
 "metadata": {
  "kernelspec": {
   "display_name": "Python [conda env:base] *",
   "language": "python",
   "name": "conda-base-py"
  },
  "language_info": {
   "codemirror_mode": {
    "name": "ipython",
    "version": 3
   },
   "file_extension": ".py",
   "mimetype": "text/x-python",
   "name": "python",
   "nbconvert_exporter": "python",
   "pygments_lexer": "ipython3",
   "version": "3.13.5"
  }
 },
 "nbformat": 4,
 "nbformat_minor": 5
}
