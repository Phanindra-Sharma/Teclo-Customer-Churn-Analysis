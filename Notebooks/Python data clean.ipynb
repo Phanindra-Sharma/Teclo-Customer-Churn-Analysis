{
 "cells": [
  {
   "cell_type": "code",
   "execution_count": 2,
   "id": "aa6d05f0-4ec9-4bf6-8b7a-391d0c1a9005",
   "metadata": {},
   "outputs": [],
   "source": [
    "import pandas as pd"
   ]
  },
  {
   "cell_type": "code",
   "execution_count": 3,
   "id": "3c18a8ae-0987-4e6f-b2cb-8ed7166d19cc",
   "metadata": {},
   "outputs": [],
   "source": [
    "df = pd.read_csv(\"cleaned_telco_customers.csv\")"
   ]
  },
  {
   "cell_type": "code",
   "execution_count": 4,
   "id": "d1174978-97c9-4403-a244-5026ac6a802d",
   "metadata": {},
   "outputs": [
    {
     "name": "stdout",
     "output_type": "stream",
     "text": [
      "<class 'pandas.core.frame.DataFrame'>\n",
      "RangeIndex: 7043 entries, 0 to 7042\n",
      "Data columns (total 26 columns):\n",
      " #   Column                Non-Null Count  Dtype  \n",
      "---  ------                --------------  -----  \n",
      " 0   customerID            7043 non-null   object \n",
      " 1   gender                7043 non-null   object \n",
      " 2   SeniorCitizen         7043 non-null   int64  \n",
      " 3   Partner               7043 non-null   object \n",
      " 4   PartnerFlag           7043 non-null   int64  \n",
      " 5   Dependents            7043 non-null   object \n",
      " 6   DependentsFlag        7043 non-null   int64  \n",
      " 7   tenure                7043 non-null   int64  \n",
      " 8   PhoneService          7043 non-null   object \n",
      " 9   PhoneServiceFlag      7043 non-null   int64  \n",
      " 10  MultipleLines         7043 non-null   object \n",
      " 11  InternetService       7043 non-null   object \n",
      " 12  OnlineSecurity        7043 non-null   object \n",
      " 13  OnlineBackup          7043 non-null   object \n",
      " 14  DeviceProtection      7043 non-null   object \n",
      " 15  TechSupport           7043 non-null   object \n",
      " 16  StreamingTV           7043 non-null   object \n",
      " 17  StreamingMovies       7043 non-null   object \n",
      " 18  Contract              7043 non-null   object \n",
      " 19  PaperlessBilling      7043 non-null   object \n",
      " 20  PaperLessBillingFlag  7043 non-null   int64  \n",
      " 21  PaymentMethod         7043 non-null   object \n",
      " 22  MonthlyCharges        7043 non-null   float64\n",
      " 23  TotalCharges          7032 non-null   float64\n",
      " 24  Churn                 7043 non-null   object \n",
      " 25  ChurnFlag             7043 non-null   int64  \n",
      "dtypes: float64(2), int64(7), object(17)\n",
      "memory usage: 1.4+ MB\n"
     ]
    }
   ],
   "source": [
    "df.info()"
   ]
  },
  {
   "cell_type": "code",
   "execution_count": 11,
   "id": "442c40cf-a157-4f18-bc9e-7a323d17cd6d",
   "metadata": {},
   "outputs": [
    {
     "name": "stdout",
     "output_type": "stream",
     "text": [
      "customerID              0\n",
      "gender                  0\n",
      "SeniorCitizen           0\n",
      "Partner                 0\n",
      "PartnerFlag             0\n",
      "Dependents              0\n",
      "DependentsFlag          0\n",
      "tenure                  0\n",
      "PhoneService            0\n",
      "PhoneServiceFlag        0\n",
      "MultipleLines           0\n",
      "InternetService         0\n",
      "OnlineSecurity          0\n",
      "OnlineBackup            0\n",
      "DeviceProtection        0\n",
      "TechSupport             0\n",
      "StreamingTV             0\n",
      "StreamingMovies         0\n",
      "Contract                0\n",
      "PaperlessBilling        0\n",
      "PaperLessBillingFlag    0\n",
      "PaymentMethod           0\n",
      "MonthlyCharges          0\n",
      "TotalCharges            0\n",
      "Churn                   0\n",
      "ChurnFlag               0\n",
      "dtype: int64\n"
     ]
    }
   ],
   "source": [
    "print(df.isnull().sum())"
   ]
  },
  {
   "cell_type": "code",
   "execution_count": 9,
   "id": "9bb5bc16-3cab-4a88-87e2-dc44fe5c2b9b",
   "metadata": {},
   "outputs": [],
   "source": [
    "df[\"TotalCharges\"] = df[\"TotalCharges\"].fillna(df[\"TotalCharges\"].median())"
   ]
  },
  {
   "cell_type": "code",
   "execution_count": 12,
   "id": "bd48c997-2ce4-4a44-a965-33ef420a4eba",
   "metadata": {},
   "outputs": [],
   "source": [
    "df.to_csv(\"telco python.csv\", index=False)"
   ]
  }
 ],
 "metadata": {
  "kernelspec": {
   "display_name": "Python [conda env:base] *",
   "language": "python",
   "name": "conda-base-py"
  },
  "language_info": {
   "codemirror_mode": {
    "name": "ipython",
    "version": 3
   },
   "file_extension": ".py",
   "mimetype": "text/x-python",
   "name": "python",
   "nbconvert_exporter": "python",
   "pygments_lexer": "ipython3",
   "version": "3.13.5"
  }
 },
 "nbformat": 4,
 "nbformat_minor": 5
}
