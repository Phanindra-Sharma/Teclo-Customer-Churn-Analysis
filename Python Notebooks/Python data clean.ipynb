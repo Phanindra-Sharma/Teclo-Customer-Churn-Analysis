{
 "cells": [
  {
   "cell_type": "code",
   "execution_count": 4,
   "id": "aa6d05f0-4ec9-4bf6-8b7a-391d0c1a9005",
   "metadata": {},
   "outputs": [],
   "source": [
    "import pandas as pd"
   ]
  },
  {
   "cell_type": "code",
   "execution_count": 50,
   "id": "3c18a8ae-0987-4e6f-b2cb-8ed7166d19cc",
   "metadata": {},
   "outputs": [],
   "source": [
    "df= pd.read_csv(r\"C:\\Users\\ADMIN\\Documents\\Data Analytics_Projects\\Telco Customer Chrun_Project 2\\telco churn sql.csv\")"
   ]
  },
  {
   "cell_type": "code",
   "execution_count": 51,
   "id": "d1174978-97c9-4403-a244-5026ac6a802d",
   "metadata": {},
   "outputs": [
    {
     "name": "stdout",
     "output_type": "stream",
     "text": [
      "<class 'pandas.core.frame.DataFrame'>\n",
      "RangeIndex: 7043 entries, 0 to 7042\n",
      "Data columns (total 26 columns):\n",
      " #   Column                Non-Null Count  Dtype  \n",
      "---  ------                --------------  -----  \n",
      " 0   customerID            7043 non-null   object \n",
      " 1   gender                7043 non-null   object \n",
      " 2   SeniorCitizen         7043 non-null   int64  \n",
      " 3   Partner               7043 non-null   object \n",
      " 4   PartnerFlag           7043 non-null   int64  \n",
      " 5   Dependents            7043 non-null   object \n",
      " 6   DependentsFlag        7043 non-null   int64  \n",
      " 7   tenure                7043 non-null   int64  \n",
      " 8   PhoneService          7043 non-null   object \n",
      " 9   PhoneServiceFlag      7043 non-null   int64  \n",
      " 10  MultipleLines         7043 non-null   object \n",
      " 11  InternetService       7043 non-null   object \n",
      " 12  OnlineSecurity        7043 non-null   object \n",
      " 13  OnlineBackup          7043 non-null   object \n",
      " 14  DeviceProtection      7043 non-null   object \n",
      " 15  TechSupport           7043 non-null   object \n",
      " 16  StreamingTV           7043 non-null   object \n",
      " 17  StreamingMovies       7043 non-null   object \n",
      " 18  Contract              7043 non-null   object \n",
      " 19  PaperlessBilling      7043 non-null   object \n",
      " 20  PaperLessBillingFlag  7043 non-null   int64  \n",
      " 21  PaymentMethod         7043 non-null   object \n",
      " 22  MonthlyCharges        7043 non-null   float64\n",
      " 23  TotalCharges          7043 non-null   float64\n",
      " 24  Churn                 7043 non-null   object \n",
      " 25  ChurnFlag             7043 non-null   int64  \n",
      "dtypes: float64(2), int64(7), object(17)\n",
      "memory usage: 1.4+ MB\n"
     ]
    }
   ],
   "source": [
    "df.info()"
   ]
  },
  {
   "cell_type": "code",
   "execution_count": 52,
   "id": "36ebdda2-5ac1-4ae4-9555-a5d792289ed2",
   "metadata": {},
   "outputs": [],
   "source": [
    "df['TotalCharges'] = pd.to_numeric(df['TotalCharges'], errors='coerce')"
   ]
  },
  {
   "cell_type": "code",
   "execution_count": 53,
   "id": "f1c280de-14c8-445c-8c14-098223ab6f6e",
   "metadata": {},
   "outputs": [],
   "source": [
    "df['GenderFlag'] = df['gender'].map({'Male':1, 'Female':0})"
   ]
  },
  {
   "cell_type": "code",
   "execution_count": 54,
   "id": "8c0bb056-d399-48d7-befc-0d4fa7158801",
   "metadata": {},
   "outputs": [],
   "source": [
    "df.drop('customerID', axis=1, inplace=True)"
   ]
  },
  {
   "cell_type": "code",
   "execution_count": 55,
   "id": "bd48c997-2ce4-4a44-a965-33ef420a4eba",
   "metadata": {},
   "outputs": [],
   "source": [
    "df.to_csv(\"telco python.csv\", index=False)"
   ]
  },
  {
   "cell_type": "code",
   "execution_count": null,
   "id": "f435bcca-bb8a-424e-9c36-ff3976e057fd",
   "metadata": {},
   "outputs": [],
   "source": []
  }
 ],
 "metadata": {
  "kernelspec": {
   "display_name": "Python [conda env:base] *",
   "language": "python",
   "name": "conda-base-py"
  },
  "language_info": {
   "codemirror_mode": {
    "name": "ipython",
    "version": 3
   },
   "file_extension": ".py",
   "mimetype": "text/x-python",
   "name": "python",
   "nbconvert_exporter": "python",
   "pygments_lexer": "ipython3",
   "version": "3.13.5"
  }
 },
 "nbformat": 4,
 "nbformat_minor": 5
}
